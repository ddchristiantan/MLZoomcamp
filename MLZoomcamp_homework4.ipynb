{
  "nbformat": 4,
  "nbformat_minor": 0,
  "metadata": {
    "colab": {
      "provenance": [],
      "authorship_tag": "ABX9TyMZpOUqYj6jR7zwktnIj4Oo",
      "include_colab_link": true
    },
    "kernelspec": {
      "name": "python3",
      "display_name": "Python 3"
    },
    "language_info": {
      "name": "python"
    }
  },
  "cells": [
    {
      "cell_type": "markdown",
      "metadata": {
        "id": "view-in-github",
        "colab_type": "text"
      },
      "source": [
        "<a href=\"https://colab.research.google.com/github/ddchristiantan/MLZoomcamp/blob/main/MLZoomcamp_homework4.ipynb\" target=\"_parent\"><img src=\"https://colab.research.google.com/assets/colab-badge.svg\" alt=\"Open In Colab\"/></a>"
      ]
    },
    {
      "cell_type": "code",
      "execution_count": 2,
      "metadata": {
        "id": "e_sdh6E7kuMF"
      },
      "outputs": [],
      "source": [
        "import pandas as pd\n",
        "import numpy as np\n",
        "\n",
        "import seaborn as sns\n",
        "from matplotlib import pyplot as plt\n",
        "%matplotlib inline"
      ]
    },
    {
      "cell_type": "code",
      "source": [
        "url = \"https://raw.githubusercontent.com/alexeygrigorev/mlbookcamp-code/master/chapter-02-car-price/data.csv\"\n",
        "df = pd.read_csv(url)\n"
      ],
      "metadata": {
        "id": "6algAeV4mH2i"
      },
      "execution_count": 3,
      "outputs": []
    },
    {
      "cell_type": "markdown",
      "source": [
        "**Data preparation**"
      ],
      "metadata": {
        "id": "_-sg81cmqJiI"
      }
    },
    {
      "cell_type": "code",
      "source": [
        "to_drop = ['Engine Fuel Type','Driven_Wheels','Number of Doors','Market Category','Vehicle Size','Popularity']\n",
        "df.drop(columns=to_drop, inplace=True)"
      ],
      "metadata": {
        "id": "dh_NruLQmUYq"
      },
      "execution_count": 4,
      "outputs": []
    },
    {
      "cell_type": "code",
      "source": [
        "df.columns = df.columns.str.lower().str.replace(' ', '_')\n",
        "categorical_columns = list(df.dtypes[df.dtypes == 'object'].index)\n",
        "for c in categorical_columns:\n",
        "    df[c] = df[c].str.lower().str.replace(' ', '_')\n",
        "df.head().T"
      ],
      "metadata": {
        "colab": {
          "base_uri": "https://localhost:8080/",
          "height": 363
        },
        "id": "KBhbaAsRm5_b",
        "outputId": "7cd7178f-b429-4144-8faa-f7ccaf5ad63f"
      },
      "execution_count": 5,
      "outputs": [
        {
          "output_type": "execute_result",
          "data": {
            "text/plain": [
              "                            0            1         2         3            4\n",
              "make                      bmw          bmw       bmw       bmw          bmw\n",
              "model              1_series_m     1_series  1_series  1_series     1_series\n",
              "year                     2011         2011      2011      2011         2011\n",
              "engine_hp               335.0        300.0     300.0     230.0        230.0\n",
              "engine_cylinders          6.0          6.0       6.0       6.0          6.0\n",
              "transmission_type      manual       manual    manual    manual       manual\n",
              "vehicle_style           coupe  convertible     coupe     coupe  convertible\n",
              "highway_mpg                26           28        28        28           28\n",
              "city_mpg                   19           19        20        18           18\n",
              "msrp                    46135        40650     36350     29450        34500"
            ],
            "text/html": [
              "\n",
              "  <div id=\"df-f4f20226-69f6-4ccf-a00f-ab4b35bb8bb2\" class=\"colab-df-container\">\n",
              "    <div>\n",
              "<style scoped>\n",
              "    .dataframe tbody tr th:only-of-type {\n",
              "        vertical-align: middle;\n",
              "    }\n",
              "\n",
              "    .dataframe tbody tr th {\n",
              "        vertical-align: top;\n",
              "    }\n",
              "\n",
              "    .dataframe thead th {\n",
              "        text-align: right;\n",
              "    }\n",
              "</style>\n",
              "<table border=\"1\" class=\"dataframe\">\n",
              "  <thead>\n",
              "    <tr style=\"text-align: right;\">\n",
              "      <th></th>\n",
              "      <th>0</th>\n",
              "      <th>1</th>\n",
              "      <th>2</th>\n",
              "      <th>3</th>\n",
              "      <th>4</th>\n",
              "    </tr>\n",
              "  </thead>\n",
              "  <tbody>\n",
              "    <tr>\n",
              "      <th>make</th>\n",
              "      <td>bmw</td>\n",
              "      <td>bmw</td>\n",
              "      <td>bmw</td>\n",
              "      <td>bmw</td>\n",
              "      <td>bmw</td>\n",
              "    </tr>\n",
              "    <tr>\n",
              "      <th>model</th>\n",
              "      <td>1_series_m</td>\n",
              "      <td>1_series</td>\n",
              "      <td>1_series</td>\n",
              "      <td>1_series</td>\n",
              "      <td>1_series</td>\n",
              "    </tr>\n",
              "    <tr>\n",
              "      <th>year</th>\n",
              "      <td>2011</td>\n",
              "      <td>2011</td>\n",
              "      <td>2011</td>\n",
              "      <td>2011</td>\n",
              "      <td>2011</td>\n",
              "    </tr>\n",
              "    <tr>\n",
              "      <th>engine_hp</th>\n",
              "      <td>335.0</td>\n",
              "      <td>300.0</td>\n",
              "      <td>300.0</td>\n",
              "      <td>230.0</td>\n",
              "      <td>230.0</td>\n",
              "    </tr>\n",
              "    <tr>\n",
              "      <th>engine_cylinders</th>\n",
              "      <td>6.0</td>\n",
              "      <td>6.0</td>\n",
              "      <td>6.0</td>\n",
              "      <td>6.0</td>\n",
              "      <td>6.0</td>\n",
              "    </tr>\n",
              "    <tr>\n",
              "      <th>transmission_type</th>\n",
              "      <td>manual</td>\n",
              "      <td>manual</td>\n",
              "      <td>manual</td>\n",
              "      <td>manual</td>\n",
              "      <td>manual</td>\n",
              "    </tr>\n",
              "    <tr>\n",
              "      <th>vehicle_style</th>\n",
              "      <td>coupe</td>\n",
              "      <td>convertible</td>\n",
              "      <td>coupe</td>\n",
              "      <td>coupe</td>\n",
              "      <td>convertible</td>\n",
              "    </tr>\n",
              "    <tr>\n",
              "      <th>highway_mpg</th>\n",
              "      <td>26</td>\n",
              "      <td>28</td>\n",
              "      <td>28</td>\n",
              "      <td>28</td>\n",
              "      <td>28</td>\n",
              "    </tr>\n",
              "    <tr>\n",
              "      <th>city_mpg</th>\n",
              "      <td>19</td>\n",
              "      <td>19</td>\n",
              "      <td>20</td>\n",
              "      <td>18</td>\n",
              "      <td>18</td>\n",
              "    </tr>\n",
              "    <tr>\n",
              "      <th>msrp</th>\n",
              "      <td>46135</td>\n",
              "      <td>40650</td>\n",
              "      <td>36350</td>\n",
              "      <td>29450</td>\n",
              "      <td>34500</td>\n",
              "    </tr>\n",
              "  </tbody>\n",
              "</table>\n",
              "</div>\n",
              "    <div class=\"colab-df-buttons\">\n",
              "\n",
              "  <div class=\"colab-df-container\">\n",
              "    <button class=\"colab-df-convert\" onclick=\"convertToInteractive('df-f4f20226-69f6-4ccf-a00f-ab4b35bb8bb2')\"\n",
              "            title=\"Convert this dataframe to an interactive table.\"\n",
              "            style=\"display:none;\">\n",
              "\n",
              "  <svg xmlns=\"http://www.w3.org/2000/svg\" height=\"24px\" viewBox=\"0 -960 960 960\">\n",
              "    <path d=\"M120-120v-720h720v720H120Zm60-500h600v-160H180v160Zm220 220h160v-160H400v160Zm0 220h160v-160H400v160ZM180-400h160v-160H180v160Zm440 0h160v-160H620v160ZM180-180h160v-160H180v160Zm440 0h160v-160H620v160Z\"/>\n",
              "  </svg>\n",
              "    </button>\n",
              "\n",
              "  <style>\n",
              "    .colab-df-container {\n",
              "      display:flex;\n",
              "      gap: 12px;\n",
              "    }\n",
              "\n",
              "    .colab-df-convert {\n",
              "      background-color: #E8F0FE;\n",
              "      border: none;\n",
              "      border-radius: 50%;\n",
              "      cursor: pointer;\n",
              "      display: none;\n",
              "      fill: #1967D2;\n",
              "      height: 32px;\n",
              "      padding: 0 0 0 0;\n",
              "      width: 32px;\n",
              "    }\n",
              "\n",
              "    .colab-df-convert:hover {\n",
              "      background-color: #E2EBFA;\n",
              "      box-shadow: 0px 1px 2px rgba(60, 64, 67, 0.3), 0px 1px 3px 1px rgba(60, 64, 67, 0.15);\n",
              "      fill: #174EA6;\n",
              "    }\n",
              "\n",
              "    .colab-df-buttons div {\n",
              "      margin-bottom: 4px;\n",
              "    }\n",
              "\n",
              "    [theme=dark] .colab-df-convert {\n",
              "      background-color: #3B4455;\n",
              "      fill: #D2E3FC;\n",
              "    }\n",
              "\n",
              "    [theme=dark] .colab-df-convert:hover {\n",
              "      background-color: #434B5C;\n",
              "      box-shadow: 0px 1px 3px 1px rgba(0, 0, 0, 0.15);\n",
              "      filter: drop-shadow(0px 1px 2px rgba(0, 0, 0, 0.3));\n",
              "      fill: #FFFFFF;\n",
              "    }\n",
              "  </style>\n",
              "\n",
              "    <script>\n",
              "      const buttonEl =\n",
              "        document.querySelector('#df-f4f20226-69f6-4ccf-a00f-ab4b35bb8bb2 button.colab-df-convert');\n",
              "      buttonEl.style.display =\n",
              "        google.colab.kernel.accessAllowed ? 'block' : 'none';\n",
              "\n",
              "      async function convertToInteractive(key) {\n",
              "        const element = document.querySelector('#df-f4f20226-69f6-4ccf-a00f-ab4b35bb8bb2');\n",
              "        const dataTable =\n",
              "          await google.colab.kernel.invokeFunction('convertToInteractive',\n",
              "                                                    [key], {});\n",
              "        if (!dataTable) return;\n",
              "\n",
              "        const docLinkHtml = 'Like what you see? Visit the ' +\n",
              "          '<a target=\"_blank\" href=https://colab.research.google.com/notebooks/data_table.ipynb>data table notebook</a>'\n",
              "          + ' to learn more about interactive tables.';\n",
              "        element.innerHTML = '';\n",
              "        dataTable['output_type'] = 'display_data';\n",
              "        await google.colab.output.renderOutput(dataTable, element);\n",
              "        const docLink = document.createElement('div');\n",
              "        docLink.innerHTML = docLinkHtml;\n",
              "        element.appendChild(docLink);\n",
              "      }\n",
              "    </script>\n",
              "  </div>\n",
              "\n",
              "\n",
              "<div id=\"df-98293dc5-a8bd-4205-b449-a9f9514e6812\">\n",
              "  <button class=\"colab-df-quickchart\" onclick=\"quickchart('df-98293dc5-a8bd-4205-b449-a9f9514e6812')\"\n",
              "            title=\"Suggest charts.\"\n",
              "            style=\"display:none;\">\n",
              "\n",
              "<svg xmlns=\"http://www.w3.org/2000/svg\" height=\"24px\"viewBox=\"0 0 24 24\"\n",
              "     width=\"24px\">\n",
              "    <g>\n",
              "        <path d=\"M19 3H5c-1.1 0-2 .9-2 2v14c0 1.1.9 2 2 2h14c1.1 0 2-.9 2-2V5c0-1.1-.9-2-2-2zM9 17H7v-7h2v7zm4 0h-2V7h2v10zm4 0h-2v-4h2v4z\"/>\n",
              "    </g>\n",
              "</svg>\n",
              "  </button>\n",
              "\n",
              "<style>\n",
              "  .colab-df-quickchart {\n",
              "      --bg-color: #E8F0FE;\n",
              "      --fill-color: #1967D2;\n",
              "      --hover-bg-color: #E2EBFA;\n",
              "      --hover-fill-color: #174EA6;\n",
              "      --disabled-fill-color: #AAA;\n",
              "      --disabled-bg-color: #DDD;\n",
              "  }\n",
              "\n",
              "  [theme=dark] .colab-df-quickchart {\n",
              "      --bg-color: #3B4455;\n",
              "      --fill-color: #D2E3FC;\n",
              "      --hover-bg-color: #434B5C;\n",
              "      --hover-fill-color: #FFFFFF;\n",
              "      --disabled-bg-color: #3B4455;\n",
              "      --disabled-fill-color: #666;\n",
              "  }\n",
              "\n",
              "  .colab-df-quickchart {\n",
              "    background-color: var(--bg-color);\n",
              "    border: none;\n",
              "    border-radius: 50%;\n",
              "    cursor: pointer;\n",
              "    display: none;\n",
              "    fill: var(--fill-color);\n",
              "    height: 32px;\n",
              "    padding: 0;\n",
              "    width: 32px;\n",
              "  }\n",
              "\n",
              "  .colab-df-quickchart:hover {\n",
              "    background-color: var(--hover-bg-color);\n",
              "    box-shadow: 0 1px 2px rgba(60, 64, 67, 0.3), 0 1px 3px 1px rgba(60, 64, 67, 0.15);\n",
              "    fill: var(--button-hover-fill-color);\n",
              "  }\n",
              "\n",
              "  .colab-df-quickchart-complete:disabled,\n",
              "  .colab-df-quickchart-complete:disabled:hover {\n",
              "    background-color: var(--disabled-bg-color);\n",
              "    fill: var(--disabled-fill-color);\n",
              "    box-shadow: none;\n",
              "  }\n",
              "\n",
              "  .colab-df-spinner {\n",
              "    border: 2px solid var(--fill-color);\n",
              "    border-color: transparent;\n",
              "    border-bottom-color: var(--fill-color);\n",
              "    animation:\n",
              "      spin 1s steps(1) infinite;\n",
              "  }\n",
              "\n",
              "  @keyframes spin {\n",
              "    0% {\n",
              "      border-color: transparent;\n",
              "      border-bottom-color: var(--fill-color);\n",
              "      border-left-color: var(--fill-color);\n",
              "    }\n",
              "    20% {\n",
              "      border-color: transparent;\n",
              "      border-left-color: var(--fill-color);\n",
              "      border-top-color: var(--fill-color);\n",
              "    }\n",
              "    30% {\n",
              "      border-color: transparent;\n",
              "      border-left-color: var(--fill-color);\n",
              "      border-top-color: var(--fill-color);\n",
              "      border-right-color: var(--fill-color);\n",
              "    }\n",
              "    40% {\n",
              "      border-color: transparent;\n",
              "      border-right-color: var(--fill-color);\n",
              "      border-top-color: var(--fill-color);\n",
              "    }\n",
              "    60% {\n",
              "      border-color: transparent;\n",
              "      border-right-color: var(--fill-color);\n",
              "    }\n",
              "    80% {\n",
              "      border-color: transparent;\n",
              "      border-right-color: var(--fill-color);\n",
              "      border-bottom-color: var(--fill-color);\n",
              "    }\n",
              "    90% {\n",
              "      border-color: transparent;\n",
              "      border-bottom-color: var(--fill-color);\n",
              "    }\n",
              "  }\n",
              "</style>\n",
              "\n",
              "  <script>\n",
              "    async function quickchart(key) {\n",
              "      const quickchartButtonEl =\n",
              "        document.querySelector('#' + key + ' button');\n",
              "      quickchartButtonEl.disabled = true;  // To prevent multiple clicks.\n",
              "      quickchartButtonEl.classList.add('colab-df-spinner');\n",
              "      try {\n",
              "        const charts = await google.colab.kernel.invokeFunction(\n",
              "            'suggestCharts', [key], {});\n",
              "      } catch (error) {\n",
              "        console.error('Error during call to suggestCharts:', error);\n",
              "      }\n",
              "      quickchartButtonEl.classList.remove('colab-df-spinner');\n",
              "      quickchartButtonEl.classList.add('colab-df-quickchart-complete');\n",
              "    }\n",
              "    (() => {\n",
              "      let quickchartButtonEl =\n",
              "        document.querySelector('#df-98293dc5-a8bd-4205-b449-a9f9514e6812 button');\n",
              "      quickchartButtonEl.style.display =\n",
              "        google.colab.kernel.accessAllowed ? 'block' : 'none';\n",
              "    })();\n",
              "  </script>\n",
              "</div>\n",
              "    </div>\n",
              "  </div>\n"
            ]
          },
          "metadata": {},
          "execution_count": 5
        }
      ]
    },
    {
      "cell_type": "code",
      "source": [
        "df = df.fillna(0)\n",
        "df.isna().sum()"
      ],
      "metadata": {
        "colab": {
          "base_uri": "https://localhost:8080/"
        },
        "id": "2mk7nWZgoJ63",
        "outputId": "1aded7e0-9c58-4b71-a724-e277c38c4104"
      },
      "execution_count": 6,
      "outputs": [
        {
          "output_type": "execute_result",
          "data": {
            "text/plain": [
              "make                 0\n",
              "model                0\n",
              "year                 0\n",
              "engine_hp            0\n",
              "engine_cylinders     0\n",
              "transmission_type    0\n",
              "vehicle_style        0\n",
              "highway_mpg          0\n",
              "city_mpg             0\n",
              "msrp                 0\n",
              "dtype: int64"
            ]
          },
          "metadata": {},
          "execution_count": 6
        }
      ]
    },
    {
      "cell_type": "code",
      "source": [
        "mean_value = df['msrp'].mean()\n",
        "df['above_average'] = (df['msrp'] > mean_value).astype(int)"
      ],
      "metadata": {
        "id": "OpIAT36LoLjf"
      },
      "execution_count": 7,
      "outputs": []
    },
    {
      "cell_type": "code",
      "source": [
        "df.dtypes"
      ],
      "metadata": {
        "colab": {
          "base_uri": "https://localhost:8080/"
        },
        "id": "8jqKq2nPqVoS",
        "outputId": "6d9edb0f-a02c-46f7-afe0-34b1645bb546"
      },
      "execution_count": 8,
      "outputs": [
        {
          "output_type": "execute_result",
          "data": {
            "text/plain": [
              "make                  object\n",
              "model                 object\n",
              "year                   int64\n",
              "engine_hp            float64\n",
              "engine_cylinders     float64\n",
              "transmission_type     object\n",
              "vehicle_style         object\n",
              "highway_mpg            int64\n",
              "city_mpg               int64\n",
              "msrp                   int64\n",
              "above_average          int64\n",
              "dtype: object"
            ]
          },
          "metadata": {},
          "execution_count": 8
        }
      ]
    },
    {
      "cell_type": "code",
      "source": [
        "df['year'] = df['year'].astype(str)\n",
        "\n",
        "numerical_columns = ['engine_hp','engine_cylinders','highway_mpg','city_mpg']"
      ],
      "metadata": {
        "id": "g-lKXBJvqcsb"
      },
      "execution_count": 9,
      "outputs": []
    },
    {
      "cell_type": "code",
      "source": [
        "from sklearn.model_selection import train_test_split\n",
        "\n",
        "df_full_train, df_test = train_test_split(df, test_size=0.2, random_state=1)\n",
        "df_train, df_val = train_test_split(df_full_train, test_size=0.25, random_state=1)\n",
        "\n",
        "len(df_train), len(df_val), len(df_test)"
      ],
      "metadata": {
        "colab": {
          "base_uri": "https://localhost:8080/"
        },
        "id": "-H0xQyW-q1OP",
        "outputId": "cca09d6f-b3a0-4fe4-e4de-c5bd0d59281d"
      },
      "execution_count": 10,
      "outputs": [
        {
          "output_type": "execute_result",
          "data": {
            "text/plain": [
              "(7148, 2383, 2383)"
            ]
          },
          "metadata": {},
          "execution_count": 10
        }
      ]
    },
    {
      "cell_type": "markdown",
      "source": [
        "**Question 1: ROC AUC feature importance**\n",
        "\n",
        "Which numerical variable (among the following 4) has the highest AUC?\n",
        "*   engine_hp\n",
        "*   engine_cylinders\n",
        "*   highway_mpg\n",
        "*   city_mpg"
      ],
      "metadata": {
        "id": "lPLcrvOErOqP"
      }
    },
    {
      "cell_type": "code",
      "source": [
        "from sklearn.metrics import roc_curve, auc"
      ],
      "metadata": {
        "id": "Y_oB4Q7QrTZK"
      },
      "execution_count": 11,
      "outputs": []
    },
    {
      "cell_type": "code",
      "source": [
        "auc_scores = {}\n",
        "\n",
        "to_evaluate = ['engine_hp', 'engine_cylinders', 'highway_mpg', 'city_mpg']\n",
        "\n",
        "for var in to_evaluate:\n",
        "    fpr, tpr, thresholds = roc_curve(df_train['above_average'], df_train[var])\n",
        "    auc_value = auc(fpr, tpr)\n",
        "    if auc_value < 0.5:\n",
        "        fpr, tpr, thresholds = roc_curve(df_train['above_average'], -df_train[var])\n",
        "        auc_value = auc(fpr, tpr)\n",
        "    auc_scores[var] = auc_value\n",
        "\n",
        "highest_auc = max(auc_scores, key=auc_scores.get)\n",
        "\n",
        "highest_auc, auc_scores\n"
      ],
      "metadata": {
        "colab": {
          "base_uri": "https://localhost:8080/"
        },
        "id": "qVayb-BEtt1y",
        "outputId": "f123e4ea-e15b-4a19-f267-44b91fa0c8e2"
      },
      "execution_count": 12,
      "outputs": [
        {
          "output_type": "execute_result",
          "data": {
            "text/plain": [
              "('engine_hp',\n",
              " {'engine_hp': 0.9171031265539011,\n",
              "  'engine_cylinders': 0.766116490165669,\n",
              "  'highway_mpg': 0.6330587871772013,\n",
              "  'city_mpg': 0.6734244643245233})"
            ]
          },
          "metadata": {},
          "execution_count": 12
        }
      ]
    },
    {
      "cell_type": "markdown",
      "source": [
        "**Question 2**\n",
        "\n",
        "What's the AUC of this model on the validation dataset? (round to 3 digits)\n",
        "*   0.678\n",
        "*   0.779\n",
        "*   0.878\n",
        "*   0.979"
      ],
      "metadata": {
        "id": "_00DM2MBx6u8"
      }
    },
    {
      "cell_type": "code",
      "source": [
        "df_train = df_train.reset_index(drop=True)\n",
        "df_val = df_val.reset_index(drop=True)\n",
        "df_test = df_test.reset_index(drop=True)\n",
        "\n",
        "y_train = df_train.above_average.values\n",
        "y_val = df_val.above_average.values\n",
        "y_test = df_val.above_average.values\n",
        "\n",
        "df_train.drop(columns=['above_average', 'msrp'], inplace=True)\n",
        "df_val.drop(columns=['above_average', 'msrp'], inplace=True)\n",
        "df_test.drop(columns=['above_average', 'msrp'], inplace=True)"
      ],
      "metadata": {
        "id": "Mvf4u1CfyM4a"
      },
      "execution_count": 13,
      "outputs": []
    },
    {
      "cell_type": "code",
      "source": [
        "from sklearn.feature_extraction import DictVectorizer\n",
        "from sklearn.linear_model import LogisticRegression\n",
        "\n",
        "dv = DictVectorizer(sparse=False)\n",
        "\n",
        "train_dict = df_train[categorical_columns + numerical_columns].to_dict(orient='records')\n",
        "X_train = dv.fit_transform(train_dict)\n",
        "X_val = dv.transform(df_val.to_dict(orient='records'))\n",
        "\n",
        "model = LogisticRegression(solver='liblinear', C=1.0, max_iter=1000)\n",
        "model.fit(X_train, y_train)"
      ],
      "metadata": {
        "colab": {
          "base_uri": "https://localhost:8080/",
          "height": 75
        },
        "id": "aPoacazcygpa",
        "outputId": "332ee208-978a-407e-fdf0-6ee1cfc98364"
      },
      "execution_count": 14,
      "outputs": [
        {
          "output_type": "execute_result",
          "data": {
            "text/plain": [
              "LogisticRegression(max_iter=1000, solver='liblinear')"
            ],
            "text/html": [
              "<style>#sk-container-id-1 {color: black;background-color: white;}#sk-container-id-1 pre{padding: 0;}#sk-container-id-1 div.sk-toggleable {background-color: white;}#sk-container-id-1 label.sk-toggleable__label {cursor: pointer;display: block;width: 100%;margin-bottom: 0;padding: 0.3em;box-sizing: border-box;text-align: center;}#sk-container-id-1 label.sk-toggleable__label-arrow:before {content: \"▸\";float: left;margin-right: 0.25em;color: #696969;}#sk-container-id-1 label.sk-toggleable__label-arrow:hover:before {color: black;}#sk-container-id-1 div.sk-estimator:hover label.sk-toggleable__label-arrow:before {color: black;}#sk-container-id-1 div.sk-toggleable__content {max-height: 0;max-width: 0;overflow: hidden;text-align: left;background-color: #f0f8ff;}#sk-container-id-1 div.sk-toggleable__content pre {margin: 0.2em;color: black;border-radius: 0.25em;background-color: #f0f8ff;}#sk-container-id-1 input.sk-toggleable__control:checked~div.sk-toggleable__content {max-height: 200px;max-width: 100%;overflow: auto;}#sk-container-id-1 input.sk-toggleable__control:checked~label.sk-toggleable__label-arrow:before {content: \"▾\";}#sk-container-id-1 div.sk-estimator input.sk-toggleable__control:checked~label.sk-toggleable__label {background-color: #d4ebff;}#sk-container-id-1 div.sk-label input.sk-toggleable__control:checked~label.sk-toggleable__label {background-color: #d4ebff;}#sk-container-id-1 input.sk-hidden--visually {border: 0;clip: rect(1px 1px 1px 1px);clip: rect(1px, 1px, 1px, 1px);height: 1px;margin: -1px;overflow: hidden;padding: 0;position: absolute;width: 1px;}#sk-container-id-1 div.sk-estimator {font-family: monospace;background-color: #f0f8ff;border: 1px dotted black;border-radius: 0.25em;box-sizing: border-box;margin-bottom: 0.5em;}#sk-container-id-1 div.sk-estimator:hover {background-color: #d4ebff;}#sk-container-id-1 div.sk-parallel-item::after {content: \"\";width: 100%;border-bottom: 1px solid gray;flex-grow: 1;}#sk-container-id-1 div.sk-label:hover label.sk-toggleable__label {background-color: #d4ebff;}#sk-container-id-1 div.sk-serial::before {content: \"\";position: absolute;border-left: 1px solid gray;box-sizing: border-box;top: 0;bottom: 0;left: 50%;z-index: 0;}#sk-container-id-1 div.sk-serial {display: flex;flex-direction: column;align-items: center;background-color: white;padding-right: 0.2em;padding-left: 0.2em;position: relative;}#sk-container-id-1 div.sk-item {position: relative;z-index: 1;}#sk-container-id-1 div.sk-parallel {display: flex;align-items: stretch;justify-content: center;background-color: white;position: relative;}#sk-container-id-1 div.sk-item::before, #sk-container-id-1 div.sk-parallel-item::before {content: \"\";position: absolute;border-left: 1px solid gray;box-sizing: border-box;top: 0;bottom: 0;left: 50%;z-index: -1;}#sk-container-id-1 div.sk-parallel-item {display: flex;flex-direction: column;z-index: 1;position: relative;background-color: white;}#sk-container-id-1 div.sk-parallel-item:first-child::after {align-self: flex-end;width: 50%;}#sk-container-id-1 div.sk-parallel-item:last-child::after {align-self: flex-start;width: 50%;}#sk-container-id-1 div.sk-parallel-item:only-child::after {width: 0;}#sk-container-id-1 div.sk-dashed-wrapped {border: 1px dashed gray;margin: 0 0.4em 0.5em 0.4em;box-sizing: border-box;padding-bottom: 0.4em;background-color: white;}#sk-container-id-1 div.sk-label label {font-family: monospace;font-weight: bold;display: inline-block;line-height: 1.2em;}#sk-container-id-1 div.sk-label-container {text-align: center;}#sk-container-id-1 div.sk-container {/* jupyter's `normalize.less` sets `[hidden] { display: none; }` but bootstrap.min.css set `[hidden] { display: none !important; }` so we also need the `!important` here to be able to override the default hidden behavior on the sphinx rendered scikit-learn.org. See: https://github.com/scikit-learn/scikit-learn/issues/21755 */display: inline-block !important;position: relative;}#sk-container-id-1 div.sk-text-repr-fallback {display: none;}</style><div id=\"sk-container-id-1\" class=\"sk-top-container\"><div class=\"sk-text-repr-fallback\"><pre>LogisticRegression(max_iter=1000, solver=&#x27;liblinear&#x27;)</pre><b>In a Jupyter environment, please rerun this cell to show the HTML representation or trust the notebook. <br />On GitHub, the HTML representation is unable to render, please try loading this page with nbviewer.org.</b></div><div class=\"sk-container\" hidden><div class=\"sk-item\"><div class=\"sk-estimator sk-toggleable\"><input class=\"sk-toggleable__control sk-hidden--visually\" id=\"sk-estimator-id-1\" type=\"checkbox\" checked><label for=\"sk-estimator-id-1\" class=\"sk-toggleable__label sk-toggleable__label-arrow\">LogisticRegression</label><div class=\"sk-toggleable__content\"><pre>LogisticRegression(max_iter=1000, solver=&#x27;liblinear&#x27;)</pre></div></div></div></div></div>"
            ]
          },
          "metadata": {},
          "execution_count": 14
        }
      ]
    },
    {
      "cell_type": "code",
      "source": [
        "y_pred_val = model.predict_proba(X_val)[:, 1]"
      ],
      "metadata": {
        "id": "4ncvSXbf29jT"
      },
      "execution_count": 15,
      "outputs": []
    },
    {
      "cell_type": "code",
      "source": [
        "fpr_val, tpr_val, thresholds_val = roc_curve(y_val, y_pred_val)\n",
        "\n",
        "auc_value_val = auc(fpr_val, tpr_val)\n",
        "\n",
        "round(auc_value_val, 3)"
      ],
      "metadata": {
        "colab": {
          "base_uri": "https://localhost:8080/"
        },
        "id": "pdRPajuh3XIN",
        "outputId": "a0cb5b8a-10cb-453d-f476-19b587499788"
      },
      "execution_count": 16,
      "outputs": [
        {
          "output_type": "execute_result",
          "data": {
            "text/plain": [
              "0.982"
            ]
          },
          "metadata": {},
          "execution_count": 16
        }
      ]
    },
    {
      "cell_type": "markdown",
      "source": [
        "**Question 3**\n",
        "\n",
        "At which precision and recall curves intersect?\n",
        "*   0.28\n",
        "*   0.48\n",
        "*   0.68\n",
        "*   0.88\n",
        "\n"
      ],
      "metadata": {
        "id": "oGFy_oio3jDi"
      }
    },
    {
      "cell_type": "code",
      "source": [
        "from sklearn.metrics import accuracy_score"
      ],
      "metadata": {
        "id": "ZsTlHIuu4dZZ"
      },
      "execution_count": 17,
      "outputs": []
    },
    {
      "cell_type": "code",
      "source": [
        "thresholds = np.linspace(0, 1, 21)\n",
        "\n",
        "scores = []\n",
        "\n",
        "for t in thresholds:\n",
        "    score = accuracy_score(y_val, y_pred_val >= t)\n",
        "    print('%.2f %.3f' % (t, score))\n",
        "    scores.append(score)"
      ],
      "metadata": {
        "colab": {
          "base_uri": "https://localhost:8080/"
        },
        "id": "onVQ1M_931Fp",
        "outputId": "9c77e871-3869-42f5-aec7-e7ae64b4ad82"
      },
      "execution_count": 18,
      "outputs": [
        {
          "output_type": "stream",
          "name": "stdout",
          "text": [
            "0.00 0.274\n",
            "0.05 0.804\n",
            "0.10 0.853\n",
            "0.15 0.884\n",
            "0.20 0.903\n",
            "0.25 0.917\n",
            "0.30 0.925\n",
            "0.35 0.933\n",
            "0.40 0.940\n",
            "0.45 0.942\n",
            "0.50 0.943\n",
            "0.55 0.939\n",
            "0.60 0.940\n",
            "0.65 0.934\n",
            "0.70 0.932\n",
            "0.75 0.927\n",
            "0.80 0.916\n",
            "0.85 0.889\n",
            "0.90 0.880\n",
            "0.95 0.846\n",
            "1.00 0.726\n"
          ]
        }
      ]
    },
    {
      "cell_type": "code",
      "source": [
        "from sklearn.metrics import precision_recall_curve\n",
        "\n",
        "precision, recall, thresholds_pr = precision_recall_curve(y_val, y_pred_val)\n",
        "thresholds_pr = np.append(thresholds_pr, 1)\n",
        "\n",
        "\n",
        "plt.figure(figsize=(10, 6))\n",
        "plt.plot(thresholds_pr, precision, label='Precision', color='blue')\n",
        "plt.plot(thresholds_pr, recall, label='Recall', color='red')\n",
        "plt.xlabel('Threshold')\n",
        "plt.ylabel('Value')\n",
        "plt.title('Precision and Recall Curves')\n",
        "plt.legend()\n",
        "plt.grid(True)\n",
        "plt.show()\n",
        "\n"
      ],
      "metadata": {
        "colab": {
          "base_uri": "https://localhost:8080/",
          "height": 564
        },
        "id": "QB7w4H8T5qRT",
        "outputId": "f710185c-1dd2-45e0-a6a0-f48b64150d14"
      },
      "execution_count": 19,
      "outputs": [
        {
          "output_type": "display_data",
          "data": {
            "text/plain": [
              "<Figure size 1000x600 with 1 Axes>"
            ],
            "image/png": "[encoded data removed]"
          },
          "metadata": {}
        }
      ]
    },
    {
      "cell_type": "code",
      "source": [
        "intersection_threshold = thresholds_pr[np.argmin(np.abs(precision - recall))]\n",
        "\n",
        "intersection_threshold"
      ],
      "metadata": {
        "colab": {
          "base_uri": "https://localhost:8080/"
        },
        "id": "Nx1yhKG65zTu",
        "outputId": "d2342c46-6394-4d61-b74d-915952663a95"
      },
      "execution_count": 20,
      "outputs": [
        {
          "output_type": "execute_result",
          "data": {
            "text/plain": [
              "0.48582295382594803"
            ]
          },
          "metadata": {},
          "execution_count": 20
        }
      ]
    },
    {
      "cell_type": "markdown",
      "source": [
        "**Question 4**\n",
        "\n",
        "At which threshold F1 is maximal?\n",
        "*   0.12\n",
        "*   0.32\n",
        "*   0.52\n",
        "*   0.72"
      ],
      "metadata": {
        "id": "ZhPgRzPztuPr"
      }
    },
    {
      "cell_type": "code",
      "source": [
        "thresholds = np.arange(0, 1.01, 0.01)\n"
      ],
      "metadata": {
        "id": "bNyAvOHLuD2l"
      },
      "execution_count": 21,
      "outputs": []
    },
    {
      "cell_type": "code",
      "source": [
        "from sklearn.metrics import precision_score, recall_score\n",
        "\n",
        "f1_scores = []\n",
        "for t in thresholds:\n",
        "    predictions = (y_pred_val >= t).astype(int)\n",
        "    P = precision_score(y_val, predictions, zero_division=1)\n",
        "    R = recall_score(y_val, predictions)\n",
        "\n",
        "    if P + R != 0:  # Avoid division by zero\n",
        "        f1 = 2 * P * R / (P + R)\n",
        "    else:\n",
        "        f1 = 0.0\n",
        "\n",
        "    f1_scores.append(f1)\n"
      ],
      "metadata": {
        "id": "e-OBG-oPx1HU"
      },
      "execution_count": 25,
      "outputs": []
    },
    {
      "cell_type": "code",
      "source": [
        "optimal_threshold = thresholds[np.argmax(f1_scores)]\n",
        "optimal_threshold"
      ],
      "metadata": {
        "colab": {
          "base_uri": "https://localhost:8080/"
        },
        "id": "mTS1MAXkyU7i",
        "outputId": "0f1f7df8-32f1-4f48-d0b8-6d6ebf9a6c88"
      },
      "execution_count": 26,
      "outputs": [
        {
          "output_type": "execute_result",
          "data": {
            "text/plain": [
              "0.49"
            ]
          },
          "metadata": {},
          "execution_count": 26
        }
      ]
    },
    {
      "cell_type": "markdown",
      "source": [
        "**Question 5**\n",
        "\n",
        "How large is standard devidation of the scores across different folds?\n",
        "*   0.003\n",
        "*   0.030\n",
        "*   0.090\n",
        "*   0.140\n"
      ],
      "metadata": {
        "id": "x8DzgSEtzWx4"
      }
    },
    {
      "cell_type": "code",
      "source": [
        "from sklearn.model_selection import KFold\n",
        "from sklearn.metrics import roc_auc_score\n",
        "\n",
        "# Initialize KFold\n",
        "kfold = KFold(n_splits=5, shuffle=True, random_state=1)\n",
        "\n",
        "# Lists to store AUC scores for each fold\n",
        "auc_scores = []\n",
        "\n",
        "# Iterate over different folds\n",
        "for train_idx, val_idx in kfold.split(df_full_train):\n",
        "    # Split the data into train and validation\n",
        "    df_train_fold = df_full_train.iloc[train_idx]\n",
        "    df_val_fold = df_full_train.iloc[val_idx]\n",
        "\n",
        "    y_train_fold = df_train_fold.above_average.values\n",
        "    y_val_fold = df_val_fold.above_average.values\n",
        "\n",
        "    # Apply one-hot-encoding using DictVectorizer\n",
        "    X_train_fold = dv.transform(df_train_fold.to_dict(orient='records'))\n",
        "    X_val_fold = dv.transform(df_val_fold.to_dict(orient='records'))\n",
        "\n",
        "    # Train the logistic regression model\n",
        "    model_fold = LogisticRegression(solver='liblinear', C=1.0, max_iter=1000)\n",
        "    model_fold.fit(X_train_fold, y_train_fold)\n",
        "\n",
        "    # Predict on the validation fold and compute AUC\n",
        "    y_pred_val_fold = model_fold.predict_proba(X_val_fold)[:, 1]\n",
        "    auc_val_fold = roc_auc_score(y_val_fold, y_pred_val_fold)\n",
        "    auc_scores.append(auc_val_fold)\n",
        "\n",
        "# Compute standard deviation of the AUC scores across different folds\n",
        "std_dev_auc = np.std(auc_scores)\n",
        "\n",
        "std_dev_auc\n"
      ],
      "metadata": {
        "colab": {
          "base_uri": "https://localhost:8080/"
        },
        "id": "HNw1MjXL6btE",
        "outputId": "60be5e35-abb9-4e0c-b7db-8f7c426e3b24"
      },
      "execution_count": 42,
      "outputs": [
        {
          "output_type": "execute_result",
          "data": {
            "text/plain": [
              "0.0023180009930647764"
            ]
          },
          "metadata": {},
          "execution_count": 42
        }
      ]
    },
    {
      "cell_type": "markdown",
      "source": [
        "Question 6\n",
        "\n",
        "Which C leads to the best mean score?\n",
        "*   0.01\n",
        "*   0.1\n",
        "*   0.5\n",
        "*   10\n"
      ],
      "metadata": {
        "id": "aFdk0XO87XZn"
      }
    },
    {
      "cell_type": "code",
      "source": [
        "dv = DictVectorizer(sparse=False)\n",
        "full_train_dict = df_full_train.drop(columns=['above_average']).to_dict(orient='records')\n",
        "dv.fit(full_train_dict)\n",
        "\n",
        "# Initialize KFold\n",
        "kfold = KFold(n_splits=5, shuffle=True, random_state=1)\n",
        "\n",
        "# Define the C values for hyperparameter tuning\n",
        "C_values = [0.01, 0.1, 0.5, 10]\n",
        "\n",
        "# Perform 5-fold CV for each C value\n",
        "mean_scores = {}\n",
        "std_scores = {}\n",
        "\n",
        "for C in C_values:\n",
        "    auc_scores_c = []\n",
        "\n",
        "    for train_idx, val_idx in kfold.split(df_full_train):\n",
        "        df_train_fold = df_full_train.iloc[train_idx]\n",
        "        df_val_fold = df_full_train.iloc[val_idx]\n",
        "\n",
        "        y_train_fold = df_train_fold.above_average.values\n",
        "        y_val_fold = df_val_fold.above_average.values\n",
        "\n",
        "        X_train_fold = dv.transform(df_train_fold.to_dict(orient='records'))\n",
        "        X_val_fold = dv.transform(df_val_fold.to_dict(orient='records'))\n",
        "\n",
        "        model_fold = LogisticRegression(solver='liblinear', C=C, max_iter=1000)\n",
        "        model_fold.fit(X_train_fold, y_train_fold)\n",
        "\n",
        "        y_pred_val_fold = model_fold.predict_proba(X_val_fold)[:, 1]\n",
        "        auc_val_fold = roc_auc_score(y_val_fold, y_pred_val_fold)\n",
        "        auc_scores_c.append(auc_val_fold)\n",
        "\n",
        "    mean_scores[C] = round(np.mean(auc_scores_c), 3)\n",
        "    std_scores[C] = round(np.std(auc_scores_c), 3)\n",
        "\n",
        "best_C = max(mean_scores, key=mean_scores.get)\n",
        "\n",
        "best_C, mean_scores, std_scores"
      ],
      "metadata": {
        "colab": {
          "base_uri": "https://localhost:8080/"
        },
        "id": "7-lJtxRc-P8S",
        "outputId": "eeca76e9-abbe-4e8b-bf2b-7662de0fbcdb"
      },
      "execution_count": 47,
      "outputs": [
        {
          "output_type": "execute_result",
          "data": {
            "text/plain": [
              "(0.5,\n",
              " {0.01: 0.983, 0.1: 0.983, 0.5: 0.985, 10: 0.983},\n",
              " {0.01: 0.006, 0.1: 0.006, 0.5: 0.006, 10: 0.006})"
            ]
          },
          "metadata": {},
          "execution_count": 47
        }
      ]
    },
    {
      "cell_type": "code",
      "source": [],
      "metadata": {
        "id": "r90UJ4b97Cnc"
      },
      "execution_count": null,
      "outputs": []
    }
  ]
}